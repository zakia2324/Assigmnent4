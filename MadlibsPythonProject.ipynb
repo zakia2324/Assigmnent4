{
  "nbformat": 4,
  "nbformat_minor": 0,
  "metadata": {
    "colab": {
      "provenance": [],
      "authorship_tag": "ABX9TyMr+L5uFDNUMF/NMUIjf7bb",
      "include_colab_link": true
    },
    "kernelspec": {
      "name": "python3",
      "display_name": "Python 3"
    },
    "language_info": {
      "name": "python"
    }
  },
  "cells": [
    {
      "cell_type": "markdown",
      "metadata": {
        "id": "view-in-github",
        "colab_type": "text"
      },
      "source": [
        "<a href=\"https://colab.research.google.com/github/zakia2324/Assigmnent4/blob/main/MadlibsPythonProject.ipynb\" target=\"_parent\"><img src=\"https://colab.research.google.com/assets/colab-badge.svg\" alt=\"Open In Colab\"/></a>"
      ]
    },
    {
      "cell_type": "code",
      "execution_count": null,
      "metadata": {
        "id": "YAthYHa9TuIY"
      },
      "outputs": [],
      "source": []
    },
    {
      "cell_type": "code",
      "source": [
        "\n"
      ],
      "metadata": {
        "id": "Qez3wBzMPhdm"
      },
      "execution_count": null,
      "outputs": []
    },
    {
      "cell_type": "code",
      "source": [
        "name =input('Enter a name')\n",
        "place=input('Enter a place')\n",
        "action=input('Enter an action')\n",
        "story=f\"i am{name} i am in {place} right now, i want to do{action}\"\n",
        "print(story)\n"
      ],
      "metadata": {
        "id": "P2_GzBxOT5jh"
      },
      "execution_count": null,
      "outputs": []
    },
    {
      "cell_type": "code",
      "source": [
        "adventurestory = input('enter a story')\n",
        "place = input('enter a place')\n",
        "story = f\"in the beautiful valley {place} there was a little {adventurestory}\"\n",
        "print(story)\n",
        "\n",
        "\n"
      ],
      "metadata": {
        "colab": {
          "base_uri": "https://localhost:8080/"
        },
        "id": "2fLggZTINMWW",
        "outputId": "c881285b-663f-479c-da64-086238dfddf1"
      },
      "execution_count": 8,
      "outputs": [
        {
          "output_type": "stream",
          "name": "stdout",
          "text": [
            "enter a storyi found a big black cat i was shocked to see it. i was terrified to see it.it was so horroble\n",
            "enter a placekaghan\n",
            "in the beautiful valley kaghan there was a little i found a big black cat i was shocked to see it. i was terrified to see it.it was so horroble\n"
          ]
        }
      ]
    }
  ]
}