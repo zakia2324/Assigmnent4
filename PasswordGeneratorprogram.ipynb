{
  "nbformat": 4,
  "nbformat_minor": 0,
  "metadata": {
    "colab": {
      "provenance": [],
      "authorship_tag": "ABX9TyP3xi9ygLDIqUupK+6Mj6WG",
      "include_colab_link": true
    },
    "kernelspec": {
      "name": "python3",
      "display_name": "Python 3"
    },
    "language_info": {
      "name": "python"
    }
  },
  "cells": [
    {
      "cell_type": "markdown",
      "metadata": {
        "id": "view-in-github",
        "colab_type": "text"
      },
      "source": [
        "<a href=\"https://colab.research.google.com/github/zakia2324/Assigmnent4/blob/main/PasswordGeneratorprogram.ipynb\" target=\"_parent\"><img src=\"https://colab.research.google.com/assets/colab-badge.svg\" alt=\"Open In Colab\"/></a>"
      ]
    },
    {
      "cell_type": "code",
      "execution_count": null,
      "metadata": {
        "id": "vEUSLdWGnC1V"
      },
      "outputs": [],
      "source": [
        "import random\n",
        "import string\n",
        "\n",
        "def generate_password(length):\n",
        "    characters = string.ascii_letters + string.digits + string.punctuation\n",
        "    password = ''.join(random.choice(characters) for _ in range(length))\n",
        "    return password\n",
        "\n",
        "def password_generator():\n",
        "    try:\n",
        "        num_passwords = int(input(\"Enter the number of passwords to generate: \"))\n",
        "        password_length = int(input(\"Enter the length of each password: \"))\n",
        "\n",
        "        if num_passwords <= 0 or password_length <= 0:\n",
        "            print(\"Please enter positive numbers only.\")\n",
        "            return\n",
        "\n",
        "        print(\"\\nGenerated Passwords:\")\n",
        "        for _ in range(num_passwords):\n",
        "            print(generate_password(password_length))\n",
        "\n",
        "    except ValueError:\n",
        "        print(\"Invalid input. Please enter numbers only.\")\n",
        "\n",
        "# Run the password generator\n",
        "password_generator()"
      ]
    }
  ]
}