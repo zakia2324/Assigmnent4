{
  "nbformat": 4,
  "nbformat_minor": 0,
  "metadata": {
    "colab": {
      "provenance": [],
      "authorship_tag": "ABX9TyMRsacQ3veBaKcAtM0hxpu8",
      "include_colab_link": true
    },
    "kernelspec": {
      "name": "python3",
      "display_name": "Python 3"
    },
    "language_info": {
      "name": "python"
    }
  },
  "cells": [
    {
      "cell_type": "markdown",
      "metadata": {
        "id": "view-in-github",
        "colab_type": "text"
      },
      "source": [
        "<a href=\"https://colab.research.google.com/github/zakia2324/Assigmnent4/blob/main/BMI_Calculator.ipynb\" target=\"_parent\"><img src=\"https://colab.research.google.com/assets/colab-badge.svg\" alt=\"Open In Colab\"/></a>"
      ]
    },
    {
      "cell_type": "code",
      "execution_count": null,
      "metadata": {
        "id": "vAlpcpYTneJr"
      },
      "outputs": [],
      "source": [
        "import streamlit as st\n",
        "\n",
        "def calculate_bmi(weight, height):\n",
        "    if height == 0:\n",
        "        return None\n",
        "    return round(weight / (height ** 2), 2)\n",
        "\n",
        "def main():\n",
        "    st.set_page_config(page_title=\"BMI Calculator\", page_icon=\"💪\")\n",
        "    st.title(\"💪 BMI Calculator\")\n",
        "    st.markdown(\"\"\"\n",
        "        This app helps you calculate your **Body Mass Index (BMI)**.\n",
        "        BMI is a simple calculation using your weight and height. Let's find out if you're in a healthy range!\n",
        "    \"\"\")\n",
        "\n",
        "    st.sidebar.title(\"User Input\")\n",
        "    weight = st.sidebar.number_input(\"Enter your weight (kg):\", min_value=0.0, step=0.1)\n",
        "    height = st.sidebar.number_input(\"Enter your height (m):\", min_value=0.0, step=0.01)\n",
        "\n",
        "    if st.sidebar.button(\"Calculate BMI\"):\n",
        "        if height == 0:\n",
        "            st.sidebar.error(\"Height cannot be zero.\")\n",
        "        else:\n",
        "            bmi = calculate_bmi(weight, height)\n",
        "            st.sidebar.success(f\"Your BMI is {bmi}\")\n",
        "            st.write(\"### Result:\")\n",
        "            st.write(f\"Your BMI is **{bmi}**\")\n",
        "\n",
        "            if bmi < 18.5:\n",
        "                st.warning(\"You are underweight.\")\n",
        "            elif 18.5 <= bmi < 24.9:\n",
        "                st.success(\"You have a normal weight.\")\n",
        "            elif 25.0 <= bmi < 29.9:\n",
        "                st.warning(\"You are overweight.\")\n",
        "            else:\n",
        "                st.error(\"You are obese.\")"
      ]
    }
  ]
}