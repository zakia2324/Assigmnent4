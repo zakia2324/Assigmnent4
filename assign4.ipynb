{
  "cells": [
    {
      "cell_type": "markdown",
      "metadata": {
        "id": "view-in-github",
        "colab_type": "text"
      },
      "source": [
        "<a href=\"https://colab.research.google.com/github/zakia2324/Assigmnent4/blob/main/assign4.ipynb\" target=\"_parent\"><img src=\"https://colab.research.google.com/assets/colab-badge.svg\" alt=\"Open In Colab\"/></a>"
      ]
    },
    {
      "cell_type": "code",
      "execution_count": null,
      "metadata": {
        "id": "VXRyMz6p3jum"
      },
      "outputs": [],
      "source": []
    },
    {
      "cell_type": "code",
      "execution_count": null,
      "metadata": {
        "id": "oCgeffAmLFGL"
      },
      "outputs": [],
      "source": [
        "side1:float=float(input(\"Enter the length of side 1: \"))\n",
        "side2:float=float(input(\"Enter the length of side 2: \"))\n",
        "side3:float=float(input(\"Enter the length of side 3: \"))\n",
        "s:float=(side1+side2+side3)\n",
        "if __name__ == '__main__':\n",
        "  main()"
      ]
    },
    {
      "cell_type": "code",
      "execution_count": null,
      "metadata": {
        "id": "SELsNnMCX4D3"
      },
      "outputs": [],
      "source": [
        "# First, install Git if it's not already installed\n",
        "!apt-get install git\n",
        "\n",
        "# Configure your GitHub credentials\n",
        "!git config --global user.name \"your-username\"\n",
        "!git config --global user.email \"your-email@example.com\"\n",
        "\n",
        "# Clone your repository\n",
        "!git clone https://github.com/your-username/your-repo.git\n",
        "\n",
        "# Change directory to your repository\n",
        "%cd your-repo\n",
        "\n",
        "# Create a new branch\n",
        "!git checkout -b new-branch-name\n",
        "\n",
        "# Optionally, you can push the new branch to GitHub\n",
        "!git push origin new-branch-name"
      ]
    },
    {
      "cell_type": "markdown",
      "metadata": {
        "id": "xRXPDGKeW3EK"
      },
      "source": []
    },
    {
      "cell_type": "code",
      "execution_count": null,
      "metadata": {
        "colab": {
          "base_uri": "https://localhost:8080/"
        },
        "id": "OdzA3MYCCIlo",
        "outputId": "59fdd6fb-d117-4071-896f-59ad1902803d"
      },
      "outputs": [
        {
          "name": "stdout",
          "output_type": "stream",
          "text": [
            "Enter temperature in Fahrenheit: 4444\n",
            "Temperature: 4444.0F = 2451.1111111111113C\n"
          ]
        }
      ],
      "source": [
        "# Program to convert Fahrenheit to Celsius\n",
        "\n",
        "# Prompt the user to enter temperature in Fahrenheit\n",
        "degrees_fahrenheit = float(input(\"Enter temperature in Fahrenheit: \"))\n",
        "\n",
        "# Perform the conversion using the given formula\n",
        "degrees_celsius = (degrees_fahrenheit - 32) * 5.0 / 9.0\n",
        "\n",
        "# Output the result\n",
        "print(f\"Temperature: {degrees_fahrenheit}F = {degrees_celsius}C\")"
      ]
    },
    {
      "cell_type": "code",
      "execution_count": null,
      "metadata": {
        "colab": {
          "base_uri": "https://localhost:8080/"
        },
        "id": "tnTWChNlD0mI",
        "outputId": "6eb46d4a-132c-4c34-bd11-395fea0dbf97"
      },
      "outputs": [
        {
          "name": "stdout",
          "output_type": "stream",
          "text": [
            "Anton is 21\n",
            "Beth is 27\n",
            "Chen is 47\n",
            "Drew is 68\n",
            "Ethan is 47\n"
          ]
        }
      ],
      "source": [
        "def main():\n",
        "    anton : int = 21\n",
        "    beth : int = 6 + anton\n",
        "    chen : int = 20 + beth\n",
        "    drew  : int= chen + anton\n",
        "    ethan : int = chen\n",
        "\n",
        "\n",
        "    print(\"Anton is \" + str(anton))\n",
        "    print(\"Beth is \" + str(beth))\n",
        "    print(\"Chen is \" + str(chen))\n",
        "    print(\"Drew is \" + str(drew))\n",
        "    print(\"Ethan is \" + str(ethan))\n",
        "\n",
        "\n",
        "\n",
        "\n",
        "if __name__ == '__main__':\n",
        "    main()\n",
        "\n",
        "\n",
        "\n"
      ]
    },
    {
      "cell_type": "code",
      "execution_count": null,
      "metadata": {
        "colab": {
          "background_save": true,
          "base_uri": "https://localhost:8080/"
        },
        "id": "N56qssCk-Z6Y",
        "outputId": "1c3647f4-7ce5-4588-e7e1-77dc15bf2eb2"
      },
      "outputs": [
        {
          "name": "stdout",
          "output_type": "stream",
          "text": [
            "waht is your favourite animal! :)\n"
          ]
        }
      ],
      "source": [
        "def main():\n",
        "    print(\"waht is your favourite animal! :)\")\n",
        "    animal : str = input()\n",
        "    print(f\"my favourite animal is also a {animal}\")\n",
        "\n",
        "\n",
        "if __name__ == '__main__':\n",
        "    main()\n"
      ]
    },
    {
      "cell_type": "code",
      "execution_count": null,
      "metadata": {
        "colab": {
          "base_uri": "https://localhost:8080/"
        },
        "id": "Y3LmdGfWyDu-",
        "outputId": "cb19d397-5c38-4145-f392-1dff6724a612"
      },
      "outputs": [
        {
          "name": "stdout",
          "output_type": "stream",
          "text": [
            "This program adds two numbers.\n",
            "Enter first number: 2\n",
            "Enter second number: 3\n",
            "The total is 5\n"
          ]
        }
      ],
      "source": [
        "\n",
        "\n",
        "def main():\n",
        "    print(\"This program adds two numbers.\")\n",
        "    num1 : str = input(\"Enter first number: \")\n",
        "    num1 : int = int(num1)\n",
        "    num2  : str = input(\"Enter second number: \")\n",
        "    num2 : int = int(num2)\n",
        "    total : int = num1 + num2\n",
        "    print(\"The total is\", total)\n",
        "main()\n",
        "\n"
      ]
    }
  ],
  "metadata": {
    "colab": {
      "provenance": [],
      "authorship_tag": "ABX9TyO8zZFaLZYWmZ/PfZMMDLGc",
      "include_colab_link": true
    },
    "kernelspec": {
      "display_name": "Python 3",
      "name": "python3"
    },
    "language_info": {
      "name": "python"
    }
  },
  "nbformat": 4,
  "nbformat_minor": 0
}