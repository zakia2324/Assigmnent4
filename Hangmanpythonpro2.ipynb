{
  "nbformat": 4,
  "nbformat_minor": 0,
  "metadata": {
    "colab": {
      "provenance": [],
      "authorship_tag": "ABX9TyNGscDrH7ixdtqHyQX8KbUW",
      "include_colab_link": true
    },
    "kernelspec": {
      "name": "python3",
      "display_name": "Python 3"
    },
    "language_info": {
      "name": "python"
    }
  },
  "cells": [
    {
      "cell_type": "markdown",
      "metadata": {
        "id": "view-in-github",
        "colab_type": "text"
      },
      "source": [
        "<a href=\"https://colab.research.google.com/github/zakia2324/Assigmnent4/blob/main/Hangmanpythonpro2.ipynb\" target=\"_parent\"><img src=\"https://colab.research.google.com/assets/colab-badge.svg\" alt=\"Open In Colab\"/></a>"
      ]
    },
    {
      "cell_type": "code",
      "execution_count": null,
      "metadata": {
        "colab": {
          "base_uri": "https://localhost:8080/"
        },
        "id": "WzyUD8qmlXzH",
        "outputId": "83878a10-adea-447c-9c08-3db749a633bc"
      },
      "outputs": [
        {
          "output_type": "stream",
          "name": "stdout",
          "text": [
            "Welcome to Hangman!\n",
            "The category is: animals\n",
            "\n",
            "You have 6 tries left.\n",
            "Guessed letters: \n",
            "Word: _ _ _ _ _ _ _\n"
          ]
        }
      ],
      "source": [
        "import random\n",
        "\n",
        "# Dictionary to store word categories\n",
        "word_categories = {\n",
        "    \"animals\": [\"lion\", \"tiger\", \"elephant\", \"giraffe\", \"zebra\"],\n",
        "    \"colors\": [\"red\", \"blue\", \"green\", \"yellow\", \"purple\"],\n",
        "    \"fruits\": [\"apple\", \"banana\", \"cherry\", \"mango\", \"orange\"]\n",
        "}\n",
        "\n",
        "# Function to choose a random word from a category\n",
        "def choose_word():\n",
        "    category = random.choice(list(word_categories.keys()))\n",
        "    word = random.choice(word_categories[category])\n",
        "    return category, word\n",
        "\n",
        "# Main hangman function\n",
        "def play_hangman():\n",
        "    category, word = choose_word()\n",
        "    word_letters = set(word)\n",
        "    guessed_letters = set()\n",
        "    tries = 6\n",
        "\n",
        "    print(\"Welcome to Hangman!\")\n",
        "    print(f\"The category is: {category}\")\n",
        "\n",
        "    while tries > 0 and word_letters:\n",
        "        print(f\"\\nYou have {tries} tries left.\")\n",
        "        print(f\"Guessed letters: {' '.join(sorted(guessed_letters))}\")\n",
        "        print(f\"Word: {' '.join([letter if letter in guessed_letters else '_' for letter in word])}\")\n",
        "\n",
        "        guess = input(\"Guess a letter: \").lower()\n",
        "\n",
        "        if len(guess) != 1 or not guess.isalpha():\n",
        "            print(\"Invalid input. Please guess a single letter.\")\n",
        "        elif guess in guessed_letters:\n",
        "            print(\"You already guessed that letter.\")\n",
        "        else:\n",
        "            guessed_letters.add(guess)\n",
        "            if guess in word_letters:\n",
        "                word_letters.remove(guess)\n",
        "                print(\"Good guess!\")\n",
        "            else:\n",
        "                tries -= 1\n",
        "                print(\"Wrong guess!\")\n",
        "\n",
        "    # Nested if statement to check win or lose\n",
        "    if not word_letters:\n",
        "        print(f\"\\nCongratulations! You guessed the word: {word}!\")\n",
        "    else:\n",
        "        if tries == 0:\n",
        "            print(f\"\\nGame over! You've run out of tries. The word was: {word}\")\n",
        "        else:\n",
        "            print(\"You quit early.\")\n",
        "\n",
        "play_hangman()\n"
      ]
    }
  ]
}