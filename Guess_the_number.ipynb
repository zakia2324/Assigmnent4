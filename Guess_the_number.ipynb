{
  "nbformat": 4,
  "nbformat_minor": 0,
  "metadata": {
    "colab": {
      "provenance": [],
      "authorship_tag": "ABX9TyNAkC6EeEnvrvXcO7W8L0a2",
      "include_colab_link": true
    },
    "kernelspec": {
      "name": "python3",
      "display_name": "Python 3"
    },
    "language_info": {
      "name": "python"
    }
  },
  "cells": [
    {
      "cell_type": "markdown",
      "metadata": {
        "id": "view-in-github",
        "colab_type": "text"
      },
      "source": [
        "<a href=\"https://colab.research.google.com/github/zakia2324/Assigmnent4/blob/main/Guess_the_number.ipynb\" target=\"_parent\"><img src=\"https://colab.research.google.com/assets/colab-badge.svg\" alt=\"Open In Colab\"/></a>"
      ]
    },
    {
      "cell_type": "code",
      "source": [
        "import random\n",
        "\n",
        "def guess_the_number():\n",
        "    print(\"Welcome to 'Guess the Number'!\")\n",
        "    print(\"Think of a number between 1 and 100, and the computer will try to guess it.\")\n",
        "\n",
        "    low = 1\n",
        "    high = 100\n",
        "    feedback = \"\"\n",
        "    while feedback != \"correct\":\n",
        "        guess = random.randint(low, high)\n",
        "        print(f\"Is {guess} your number?\")\n",
        "        feedback = input(\"Type 'high' if it's too high, 'low' if it's too low, or 'correct' if it's right: \").lower()\n",
        "\n",
        "        if feedback == \"low\":\n",
        "            low = guess + 1\n",
        "        elif feedback == \"high\":\n",
        "            high = guess - 1\n",
        "        elif feedback != \"correct\":\n",
        "            print(\"Invalid input! Please type 'high', 'low', or 'correct'.\")\n",
        "\n",
        "    print(f\"Yay! The computer guessed your number, {guess}, correctly!\")\n",
        "\n",
        "guess_the_number()"
      ],
      "metadata": {
        "colab": {
          "base_uri": "https://localhost:8080/"
        },
        "id": "LbhaYKxuWfjL",
        "outputId": "2222d942-b035-4a92-dc81-892454e39a0a"
      },
      "execution_count": null,
      "outputs": [
        {
          "output_type": "stream",
          "name": "stdout",
          "text": [
            "Welcome to 'Guess the Number'!\n",
            "Think of a number between 1 and 100, and the computer will try to guess it.\n",
            "Is 76 your number?\n"
          ]
        }
      ]
    },
    {
      "cell_type": "code",
      "execution_count": null,
      "metadata": {
        "id": "fvezrE26SJhk"
      },
      "outputs": [],
      "source": []
    }
  ]
}