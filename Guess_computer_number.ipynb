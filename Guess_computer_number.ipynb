{
  "nbformat": 4,
  "nbformat_minor": 0,
  "metadata": {
    "colab": {
      "provenance": [],
      "authorship_tag": "ABX9TyMsej/u9ChRZv2n1kNoA7c5",
      "include_colab_link": true
    },
    "kernelspec": {
      "name": "python3",
      "display_name": "Python 3"
    },
    "language_info": {
      "name": "python"
    }
  },
  "cells": [
    {
      "cell_type": "markdown",
      "metadata": {
        "id": "view-in-github",
        "colab_type": "text"
      },
      "source": [
        "<a href=\"https://colab.research.google.com/github/zakia2324/Assigmnent4/blob/main/Guess_computer_number.ipynb\" target=\"_parent\"><img src=\"https://colab.research.google.com/assets/colab-badge.svg\" alt=\"Open In Colab\"/></a>"
      ]
    },
    {
      "cell_type": "code",
      "execution_count": null,
      "metadata": {
        "colab": {
          "base_uri": "https://localhost:8080/"
        },
        "id": "DJgBR3U-dHbQ",
        "outputId": "86290c7c-3ee9-4853-b176-223150cb9f15"
      },
      "outputs": [
        {
          "output_type": "stream",
          "name": "stdout",
          "text": [
            "Welcome to 'Guess the Number'!\n",
            "I have picked a number between 1 and 100. Try to guess it!\n",
            "Enter your guess: 3\n",
            "Too low! Try again.\n",
            "Enter your guess: 66\n",
            "Too high! Try again.\n",
            "Enter your guess: 88\n",
            "Too high! Try again.\n",
            "Enter your guess: 44\n",
            "Too high! Try again.\n",
            "Enter your guess: 55\n",
            "Too high! Try again.\n",
            "Enter your guess: 43\n",
            "Too high! Try again.\n",
            "Enter your guess: 67\n",
            "Too high! Try again.\n",
            "Enter your guess: 89\n",
            "Too high! Try again.\n",
            "Enter your guess: 98\n",
            "Too high! Try again.\n",
            "Enter your guess: 66\n",
            "Too high! Try again.\n",
            "Enter your guess: 34\n",
            "Too low! Try again.\n",
            "Enter your guess: 43\n",
            "Too high! Try again.\n",
            "Enter your guess: 22\n",
            "Too low! Try again.\n",
            "Enter your guess: \n",
            "Please enter a valid number.\n",
            "Enter your guess: 21\n",
            "Too low! Try again.\n",
            "Enter your guess: 54\n",
            "Too high! Try again.\n",
            "Enter your guess: 56\n",
            "Too high! Try again.\n",
            "Enter your guess: 77\n",
            "Too high! Try again.\n",
            "Enter your guess: \n",
            "Please enter a valid number.\n"
          ]
        }
      ],
      "source": [
        "import random\n",
        "\n",
        "def guess_the_number():\n",
        "    print(\"Welcome to 'Guess the Number'!\")\n",
        "    print(\"I have picked a number between 1 and 100. Try to guess it!\")\n",
        "\n",
        "    number = random.randint(1, 100)\n",
        "    guess = None\n",
        "    attempts = 0\n",
        "\n",
        "    while guess != number:\n",
        "        try:\n",
        "            guess = int(input(\"Enter your guess: \"))\n",
        "            attempts += 1\n",
        "            if guess < number:\n",
        "                print(\"Too low! Try again.\")\n",
        "            elif guess > number:\n",
        "                print(\"Too high! Try again.\")\n",
        "            else:\n",
        "                print(f\"Congratulations! You guessed it in {attempts} attempts.\")\n",
        "        except ValueError:\n",
        "            print(\"Please enter a valid number.\")\n",
        "\n",
        "# Run the function\n",
        "guess_the_number()"
      ]
    }
  ]
}