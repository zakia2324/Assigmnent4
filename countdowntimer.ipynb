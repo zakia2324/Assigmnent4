{
  "nbformat": 4,
  "nbformat_minor": 0,
  "metadata": {
    "colab": {
      "provenance": [],
      "authorship_tag": "ABX9TyNBSLROXjhmwswQT74R6bo9",
      "include_colab_link": true
    },
    "kernelspec": {
      "name": "python3",
      "display_name": "Python 3"
    },
    "language_info": {
      "name": "python"
    }
  },
  "cells": [
    {
      "cell_type": "markdown",
      "metadata": {
        "id": "view-in-github",
        "colab_type": "text"
      },
      "source": [
        "<a href=\"https://colab.research.google.com/github/zakia2324/Assigmnent4/blob/main/countdowntimer.ipynb\" target=\"_parent\"><img src=\"https://colab.research.google.com/assets/colab-badge.svg\" alt=\"Open In Colab\"/></a>"
      ]
    },
    {
      "cell_type": "code",
      "execution_count": null,
      "metadata": {
        "id": "YW5cxCPomuRC"
      },
      "outputs": [],
      "source": [
        "import time\n",
        "\n",
        "def countdown_timer(seconds):\n",
        "    while seconds > 0:\n",
        "        mins, secs = divmod(seconds, 60)\n",
        "        time_format = f\"{mins:02d}:{secs:02d}\"\n",
        "        print(time_format, end=\"\\r\")  # Print on the same line\n",
        "        time.sleep(1)  # Pause for 1 second\n",
        "        seconds -= 1\n",
        "\n",
        "    print(\"Time's up!\")  # Final message\n",
        "\n",
        "# Input the countdown time in seconds\n",
        "total_seconds = int(input(\"Enter the countdown time in seconds: \"))\n",
        "countdown_timer(total_seconds)"
      ]
    }
  ]
}