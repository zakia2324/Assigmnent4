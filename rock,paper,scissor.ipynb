{
  "nbformat": 4,
  "nbformat_minor": 0,
  "metadata": {
    "colab": {
      "provenance": [],
      "authorship_tag": "ABX9TyO5QzvI4PuCYY1omNmxNqR6",
      "include_colab_link": true
    },
    "kernelspec": {
      "name": "python3",
      "display_name": "Python 3"
    },
    "language_info": {
      "name": "python"
    }
  },
  "cells": [
    {
      "cell_type": "markdown",
      "metadata": {
        "id": "view-in-github",
        "colab_type": "text"
      },
      "source": [
        "<a href=\"https://colab.research.google.com/github/zakia2324/Assigmnent4/blob/main/rock%2Cpaper%2Cscissor.ipynb\" target=\"_parent\"><img src=\"https://colab.research.google.com/assets/colab-badge.svg\" alt=\"Open In Colab\"/></a>"
      ]
    },
    {
      "cell_type": "code",
      "execution_count": null,
      "metadata": {
        "id": "vYehNC_ufuXd",
        "colab": {
          "base_uri": "https://localhost:8080/"
        },
        "outputId": "faafd9d0-2e36-49ce-a93a-6d49a148ff7e"
      },
      "outputs": [
        {
          "output_type": "stream",
          "name": "stdout",
          "text": [
            "Welcome to Rock, Paper, Scissors!\n",
            "Type 'rock', 'paper', or 'scissors' to play. Type 'exit' to quit.\n",
            "Your move: paper\n",
            "Computer chose: scissors\n",
            "You lose!\n",
            "Your move: scissor\n",
            "Invalid choice. Please try again.\n",
            "Your move: scissors\n",
            "Computer chose: rock\n",
            "You lose!\n",
            "Your move: rock\n",
            "Computer chose: rock\n",
            "It's a tie!\n",
            "Your move: paper\n",
            "Computer chose: paper\n",
            "It's a tie!\n"
          ]
        }
      ],
      "source": [
        "import random\n",
        "\n",
        "def rock_paper_scissors():\n",
        "    print(\"Welcome to Rock, Paper, Scissors!\")\n",
        "    print(\"Type 'rock', 'paper', or 'scissors' to play. Type 'exit' to quit.\")\n",
        "\n",
        "    choices = [\"rock\", \"paper\", \"scissors\"]\n",
        "\n",
        "    while True:\n",
        "        user_choice = input(\"Your move: \").lower()\n",
        "        if user_choice == \"exit\":\n",
        "            print(\"Thanks for playing! Goodbye!\")\n",
        "            break\n",
        "        if user_choice not in choices:\n",
        "            print(\"Invalid choice. Please try again.\")\n",
        "            continue\n",
        "\n",
        "        computer_choice = random.choice(choices)\n",
        "        print(f\"Computer chose: {computer_choice}\")\n",
        "\n",
        "        if user_choice == computer_choice:\n",
        "            print(\"It's a tie!\")\n",
        "        elif (user_choice == \"rock\" and computer_choice == \"scissors\") or \\\n",
        "             (user_choice == \"paper\" and computer_choice == \"rock\") or \\\n",
        "             (user_choice == \"scissors\" and computer_choice == \"paper\"):\n",
        "            print(\"You win!\")\n",
        "        else:\n",
        "            print(\"You lose!\")\n",
        "\n",
        "# Run the function\n",
        "rock_paper_scissors()"
      ]
    }
  ]
}